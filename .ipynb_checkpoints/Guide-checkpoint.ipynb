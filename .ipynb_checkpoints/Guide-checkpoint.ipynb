{
 "cells": [
  {
   "cell_type": "markdown",
   "metadata": {
    "editable": true
   },
   "source": [
    "# Instructions\n",
    "\n",
    "Your goal is to set up an NPM project which will lint and prettify the code in `index.js`. \n",
    "\n",
    "You are being supplied the configuration files for EsLint and Prettier `./.prettierrc` & `./.eslintrc`. Run `ls -a` in terminal to see invisible files are there. You do not need to make any changes to them.  \n",
    "\n",
    "Configure the NPM project then install the proper node modules including prettier version 1.19.1 (version 2 is not compatible with the workspace node version), eslint, eslint config prettier, eslint plugin prettier. You will also need to include scripts that run eslint and prettier. To figure out what to use for the script, try adding \"lint\": \"eslint\" as a script and read the help feedback for eslint to see what is missing.  \n",
    "\n",
    "To edit the `package.json` file, right-click on the file and select **Open With** and select **Editor**.\n",
    "\n",
    "There are errors in the `index.js` file. Run the scripts and fix the errors based off the results displayed in the console."
   ]
  }
 ],
 "metadata": {
  "kernelspec": {
   "display_name": "Python 3",
   "language": "python",
   "name": "python3"
  },
  "language_info": {
   "codemirror_mode": {
    "name": "ipython",
    "version": 3
   },
   "file_extension": ".py",
   "mimetype": "text/x-python",
   "name": "python",
   "nbconvert_exporter": "python",
   "pygments_lexer": "ipython3",
   "version": "3.6.3"
  },
  "ulab_nb_type": "guided"
 },
 "nbformat": 4,
 "nbformat_minor": 4
}
