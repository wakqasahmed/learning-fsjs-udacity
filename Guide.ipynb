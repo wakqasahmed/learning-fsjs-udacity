{
 "cells": [
  {
   "cell_type": "markdown",
   "metadata": {
    "editable": true
   },
   "source": [
    "# Instructions\n",
    "\n",
    "Your goal is to set up an NPM project which will lint and prettify the code in `index.js`. \n",
    "\n",
    "You are being supplied the configuration files for EsLint and Prettier `./.prettierrc` & `./.eslintrc`. Run `ls -a` in terminal to see invisible files are there. You do not need to make any changes to them.  \n",
    "\n",
    "1. Configure the NPM project\n",
    "2. Install the proper node modules. \n",
    "   - `prettier` ***Note:*** you'll need to use Prettier version 1.19.1  because version 2+ is not compatible with the workspace Node version)\n",
    "   - `eslint` \n",
    "   - `eslint-config-prettier` to turn off ESLint reult that conflict with Prettier\n",
    "   - `eslint-plugin-prettier` which runs Prettier as an ESLint rule\n",
    "3. Write scripts that run `eslint` and `prettier`. \n",
    "4. Run the scripts to find the errors in `index.js`\n",
    "5. Fix the errors and run the scripts again until the code is clean.\n",
    "\n",
    "## Hints\n",
    "\n",
    "- To figure out what to use for the script, try adding \"lint\": \"eslint\" as a script and read the help feedback for eslint to see what is missing.  \n",
    "\n",
    "- To edit the `package.json` file, right-click on the file and select **Open With** and select **Editor**.\n",
    "\n",
    "- If you aren't sure how to fix an error, run an internet search on it.\n"
   ]
  }
 ],
 "metadata": {
  "kernelspec": {
   "display_name": "Python 3",
   "language": "python",
   "name": "python3"
  },
  "language_info": {
   "codemirror_mode": {
    "name": "ipython",
    "version": 3
   },
   "file_extension": ".py",
   "mimetype": "text/x-python",
   "name": "python",
   "nbconvert_exporter": "python",
   "pygments_lexer": "ipython3",
   "version": "3.6.3"
  },
  "ulab_nb_type": "guided"
 },
 "nbformat": 4,
 "nbformat_minor": 4
}
